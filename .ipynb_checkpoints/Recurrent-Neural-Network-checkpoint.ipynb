{
 "cells": [
  {
   "cell_type": "markdown",
   "metadata": {},
   "source": [
    "### Vinícius Rodrigues Ferraz"
   ]
  },
  {
   "cell_type": "markdown",
   "metadata": {},
   "source": [
    "## Recurrent Neural Networks"
   ]
  },
  {
   "cell_type": "markdown",
   "metadata": {},
   "source": [
    "**RNNs are Neural Networks that allows previous outputs to be used as inputs (inputs and outputs have the same shape), while having hidden states.  \n",
    "RNNs are used to deal with sequential/temporal informations, since each epoch in RNN is an time step.**"
   ]
  },
  {
   "cell_type": "markdown",
   "metadata": {},
   "source": [
    "<img src=\"img/RNN.png\" alt=\"drawing\" width=\"600\" align=\"left\"/>"
   ]
  },
  {
   "cell_type": "markdown",
   "metadata": {},
   "source": [
    "**As I made in the ANN Notebook, first I'll find some RNN work to take as a base, so I can learn in the process and apply it form myself later.**"
   ]
  },
  {
   "cell_type": "markdown",
   "metadata": {},
   "source": [
    "**NOTES:**  \n",
    "   - **I'll use [This Work](https://www.datatechnotes.com/2018/12/rnn-example-with-keras-simplernn-in.html) from datatechnotes to learn how to code an RNN**\n",
    "       - **All merits of this first work must be given to the author.**\n",
    "   - **After this, to apply what I've learned, I'll try to make on my own a RNN predict the next dinner. This is an example that I saw when I was learning about RNNs.**\n",
    "   - **Last, I'll try to make on my own a _BTC Price Predict_ applying LSTMs.**"
   ]
  },
  {
   "cell_type": "markdown",
   "metadata": {},
   "source": [
    "## Imports and Setup"
   ]
  },
  {
   "cell_type": "code",
   "execution_count": 1,
   "metadata": {},
   "outputs": [
    {
     "name": "stderr",
     "output_type": "stream",
     "text": [
      "Using TensorFlow backend.\n"
     ]
    }
   ],
   "source": [
    "import pandas as pd\n",
    "import numpy as np\n",
    "import matplotlib.pyplot as plt\n",
    "from keras.models import Sequential\n",
    "from keras.layers import Dense, SimpleRNN,Embedding"
   ]
  },
  {
   "cell_type": "markdown",
   "metadata": {},
   "source": [
    "**Generating sequential dataset**"
   ]
  },
  {
   "cell_type": "code",
   "execution_count": 2,
   "metadata": {},
   "outputs": [],
   "source": [
    "n = 1000\n",
    "train_point = int(0.8*n)\n",
    "\n",
    "t = np.arange(0,n)\n",
    "X = np.sin((0.02*t)+2*np.random.rand(n)) #Multiplications done to make the graph \"clean\""
   ]
  },
  {
   "cell_type": "markdown",
   "metadata": {},
   "source": [
    "**Visualizing the data**"
   ]
  },
  {
   "cell_type": "code",
   "execution_count": 3,
   "metadata": {},
   "outputs": [
    {
     "data": {
      "text/html": [
       "<div>\n",
       "<style scoped>\n",
       "    .dataframe tbody tr th:only-of-type {\n",
       "        vertical-align: middle;\n",
       "    }\n",
       "\n",
       "    .dataframe tbody tr th {\n",
       "        vertical-align: top;\n",
       "    }\n",
       "\n",
       "    .dataframe thead th {\n",
       "        text-align: right;\n",
       "    }\n",
       "</style>\n",
       "<table border=\"1\" class=\"dataframe\">\n",
       "  <thead>\n",
       "    <tr style=\"text-align: right;\">\n",
       "      <th></th>\n",
       "      <th>0</th>\n",
       "    </tr>\n",
       "  </thead>\n",
       "  <tbody>\n",
       "    <tr>\n",
       "      <th>0</th>\n",
       "      <td>0.711429</td>\n",
       "    </tr>\n",
       "    <tr>\n",
       "      <th>1</th>\n",
       "      <td>0.890527</td>\n",
       "    </tr>\n",
       "    <tr>\n",
       "      <th>2</th>\n",
       "      <td>0.648375</td>\n",
       "    </tr>\n",
       "  </tbody>\n",
       "</table>\n",
       "</div>"
      ],
      "text/plain": [
       "          0\n",
       "0  0.711429\n",
       "1  0.890527\n",
       "2  0.648375"
      ]
     },
     "execution_count": 3,
     "metadata": {},
     "output_type": "execute_result"
    }
   ],
   "source": [
    "df = pd.DataFrame(X)\n",
    "df.head(3)"
   ]
  },
  {
   "cell_type": "code",
   "execution_count": 4,
   "metadata": {},
   "outputs": [
    {
     "data": {
      "text/plain": [
       "[<matplotlib.lines.Line2D at 0x13c2f9b38>]"
      ]
     },
     "execution_count": 4,
     "metadata": {},
     "output_type": "execute_result"
    },
    {
     "data": {
      "image/png": "[encoded data removed]",
      "text/plain": [
       "<Figure size 432x288 with 1 Axes>"
      ]
     },
     "metadata": {
      "needs_background": "light"
     },
     "output_type": "display_data"
    }
   ],
   "source": [
    "plt.plot(df)"
   ]
  },
  {
   "cell_type": "markdown",
   "metadata": {},
   "source": [
    "**Now we will make the Train and the Test Data**\n",
    "****\n",
    "**RNN requires sequential Data but also requires a step**"
   ]
  },
  {
   "cell_type": "code",
   "execution_count": 5,
   "metadata": {},
   "outputs": [],
   "source": [
    "step = 4"
   ]
  },
  {
   "cell_type": "markdown",
   "metadata": {},
   "source": [
    "**For RNN our input need to be the same shape. When we make a step it brokes the last numbers like:**  \n",
    "data = 1-10 | step = 4  \n",
    "x = 1 y = 5  \n",
    "x = 2 y = 6  \n",
    "...  \n",
    "x = 10 y = 14 (14 not in data)"
   ]
  },
  {
   "cell_type": "code",
   "execution_count": 6,
   "metadata": {},
   "outputs": [],
   "source": [
    "values = df.values\n",
    "train,test = values[0:train_point,:], values[train_point:n,:]\n",
    "#train.shape = (800,1)"
   ]
  },
  {
   "cell_type": "code",
   "execution_count": 7,
   "metadata": {},
   "outputs": [
    {
     "data": {
      "text/plain": [
       "(804,)"
      ]
     },
     "execution_count": 7,
     "metadata": {},
     "output_type": "execute_result"
    }
   ],
   "source": [
    "step = 4\n",
    "# add step elements into train and test\n",
    "test = np.append(test,np.repeat(test[-1,],step))\n",
    "train = np.append(train,np.repeat(train[-1,],step))\n",
    "train.shape # = (804,1)"
   ]
  },
  {
   "cell_type": "code",
   "execution_count": 8,
   "metadata": {},
   "outputs": [],
   "source": [
    "# convert into dataset matrix\n",
    "def convertToMatrix(data, step):\n",
    "    X, Y =[], []\n",
    "    for i in range(len(data)-step):\n",
    "        d=i+step  \n",
    "        X.append(data[i:d,])\n",
    "        Y.append(data[d,])\n",
    "    return np.array(X), np.array(Y)"
   ]
  },
  {
   "cell_type": "code",
   "execution_count": 9,
   "metadata": {},
   "outputs": [
    {
     "name": "stdout",
     "output_type": "stream",
     "text": [
      "(800, 4)\n"
     ]
    }
   ],
   "source": [
    "trainX,trainY =convertToMatrix(train,step)\n",
    "print(trainX.shape)\n",
    "testX,testY =convertToMatrix(test,step)"
   ]
  },
  {
   "cell_type": "code",
   "execution_count": 10,
   "metadata": {},
   "outputs": [
    {
     "data": {
      "text/plain": [
       "(800, 1, 4)"
      ]
     },
     "execution_count": 10,
     "metadata": {},
     "output_type": "execute_result"
    }
   ],
   "source": [
    "trainX = np.reshape(trainX, (trainX.shape[0], 1, trainX.shape[1]))\n",
    "testX = np.reshape(testX, (testX.shape[0], 1, testX.shape[1]))\n",
    "trainX.shape"
   ]
  },
  {
   "cell_type": "code",
   "execution_count": 11,
   "metadata": {},
   "outputs": [
    {
     "data": {
      "text/plain": [
       "(800,)"
      ]
     },
     "execution_count": 11,
     "metadata": {},
     "output_type": "execute_result"
    }
   ],
   "source": [
    "trainY.shape"
   ]
  },
  {
   "cell_type": "markdown",
   "metadata": {},
   "source": [
    "**Split ok**"
   ]
  },
  {
   "cell_type": "code",
   "execution_count": 12,
   "metadata": {},
   "outputs": [],
   "source": [
    "#(batch_size, timesteps, input_dim)\n",
    "def RNN():\n",
    "    model = Sequential()\n",
    "    model.add(SimpleRNN(units=32, input_shape=(1,step), activation=\"relu\"))\n",
    "    model.add(Dense(8,activation=\"relu\"))\n",
    "    model.add(Dense(1))\n",
    "    model.compile(loss=\"mean_squared_error\",optimizer=\"adam\")\n",
    "    return model"
   ]
  },
  {
   "cell_type": "code",
   "execution_count": 13,
   "metadata": {},
   "outputs": [
    {
     "data": {
      "text/plain": [
       "<keras.callbacks.callbacks.History at 0x13c371320>"
      ]
     },
     "execution_count": 13,
     "metadata": {},
     "output_type": "execute_result"
    }
   ],
   "source": [
    "#print(trainX.shape,trainy.shape)\n",
    "model = RNN()\n",
    "model.fit(trainX,trainY, epochs=100, batch_size=16, verbose=0)"
   ]
  },
  {
   "cell_type": "code",
   "execution_count": 14,
   "metadata": {},
   "outputs": [],
   "source": [
    "trainPredict = model.predict(trainX)\n",
    "testPredict= model.predict(testX)\n",
    "predicted=np.concatenate((trainPredict,testPredict),axis=0)"
   ]
  },
  {
   "cell_type": "code",
   "execution_count": 15,
   "metadata": {},
   "outputs": [
    {
     "name": "stdout",
     "output_type": "stream",
     "text": [
      "0.15087911620736122\n"
     ]
    }
   ],
   "source": [
    "trainScore = model.evaluate(trainX, trainY, verbose=0)\n",
    "print(trainScore)"
   ]
  },
  {
   "cell_type": "code",
   "execution_count": 16,
   "metadata": {},
   "outputs": [
    {
     "data": {
      "image/png": "[encoded data removed]",
      "text/plain": [
       "<Figure size 432x288 with 1 Axes>"
      ]
     },
     "metadata": {
      "needs_background": "light"
     },
     "output_type": "display_data"
    }
   ],
   "source": [
    "index = df.index.values\n",
    "plt.plot(index,df)\n",
    "plt.plot(index,predicted)\n",
    "plt.axvline(df.index[train_point], c=\"lightgreen\",lw=2)\n",
    "plt.show() "
   ]
  },
  {
   "cell_type": "markdown",
   "metadata": {},
   "source": [
    "**OK! It works, but I will apply it on another sample.**"
   ]
  },
  {
   "cell_type": "markdown",
   "metadata": {},
   "source": [
    "**Since RNNs can treat sequence problems let's supose this case:  \n",
    " My roomate always make the same dinner, based on the day of week.  \n",
    "     Monday    - Pizza  \n",
    "     Tuesday   - Burguer  \n",
    "     Wednesday - Pancake  \n",
    "     Thursday  - spaghetti  \n",
    "     Friday    - Meat  \n",
    "     Saturday  - Chicken  \n",
    "     Sunday    - Sausage**"
   ]
  },
  {
   "cell_type": "markdown",
   "metadata": {},
   "source": [
    "**To make the work easy, I'll set numbers instead of strings**"
   ]
  },
  {
   "cell_type": "markdown",
   "metadata": {},
   "source": [
    "**Dataset Creation**"
   ]
  },
  {
   "cell_type": "code",
   "execution_count": 17,
   "metadata": {},
   "outputs": [],
   "source": [
    "#dayofweek = [\"Monday, Tuesday, Wednesday, Thursday, Friday, Saturday, Sunday\"]\n",
    "dayofweek = [1,2,3,4,5,6,7]\n",
    "#dinner = [\"Pizza\",\"Burguer\",\"Pancake\",\"Spaghetti\",\"Meat\",\"Chicken\",\"Sausage\"]\n",
    "dinner = [1,2,3,4,5,6,7]\n",
    "\n",
    "#Repeating for greater dataset\n",
    "dayofweek = np.array(144*dayofweek) # = 1008 days\n",
    "dinner = np.array(144*dinner)"
   ]
  },
  {
   "cell_type": "markdown",
   "metadata": {},
   "source": [
    "**Train/Test Split**"
   ]
  },
  {
   "cell_type": "markdown",
   "metadata": {},
   "source": [
    "**Time-step will be 2, so, given the previous 2 days, the RNN will discover what's the next food  \n",
    "Given Monday(1) and Tuesday(2) RNN have to return Pancake(3)**"
   ]
  },
  {
   "cell_type": "code",
   "execution_count": 18,
   "metadata": {},
   "outputs": [],
   "source": [
    "# Time-step\n",
    "tstep = 2\n",
    "\n",
    "# train = ~80% | test = ~20%\n",
    "tp = 800\n",
    "\n",
    "trainX, trainY = dayofweek[0:tp], dinner[0:tp]\n",
    "testX, testY = dayofweek[tp:], dinner[tp:]"
   ]
  },
  {
   "cell_type": "code",
   "execution_count": 19,
   "metadata": {},
   "outputs": [
    {
     "data": {
      "text/plain": [
       "(208,)"
      ]
     },
     "execution_count": 19,
     "metadata": {},
     "output_type": "execute_result"
    }
   ],
   "source": [
    "testX.shape"
   ]
  },
  {
   "cell_type": "markdown",
   "metadata": {},
   "source": [
    "**Fixing dimensions**"
   ]
  },
  {
   "cell_type": "code",
   "execution_count": 20,
   "metadata": {},
   "outputs": [],
   "source": [
    "def makematrix(dataX, dataY, tstep):\n",
    "    X, Y = [], []\n",
    "    for i in range(len(dataX)-tstep):\n",
    "        X.append(dataX[i:i+tstep,])\n",
    "        Y.append(dataY[i+tstep])\n",
    "    return np.array(X), np.array(Y)"
   ]
  },
  {
   "cell_type": "code",
   "execution_count": 21,
   "metadata": {},
   "outputs": [],
   "source": [
    "trainX, trainY = makematrix(trainX, trainY, tstep)\n",
    "testX, testY = makematrix(testX, testY, tstep)"
   ]
  },
  {
   "cell_type": "code",
   "execution_count": 22,
   "metadata": {},
   "outputs": [
    {
     "data": {
      "text/plain": [
       "(206, 2)"
      ]
     },
     "execution_count": 22,
     "metadata": {},
     "output_type": "execute_result"
    }
   ],
   "source": [
    "testX.shape"
   ]
  },
  {
   "cell_type": "markdown",
   "metadata": {},
   "source": [
    "**RNNs require 3 dimensional inputs, so we have to reshape it**"
   ]
  },
  {
   "cell_type": "code",
   "execution_count": 23,
   "metadata": {},
   "outputs": [],
   "source": [
    "trainX = np.reshape(trainX, (trainX.shape[0], 1, tstep))\n",
    "testX = np.reshape(testX, (testX.shape[0], 1, tstep))"
   ]
  },
  {
   "cell_type": "markdown",
   "metadata": {},
   "source": [
    "**I'll create a graph function to plot future models**"
   ]
  },
  {
   "cell_type": "code",
   "execution_count": 24,
   "metadata": {},
   "outputs": [],
   "source": [
    "def graph(hist):\n",
    "    # Plots Loss Line.\n",
    "    plt.plot(hist.history['loss'])\n",
    "    plt.xlabel('Epoch')\n",
    "    plt.ylabel('Loss')\n",
    "    \n",
    "    lss = str(hist.history['loss'][-1])\n",
    "    plt.title(str('Loss='+lss))\n",
    "    plt.show()"
   ]
  },
  {
   "cell_type": "markdown",
   "metadata": {},
   "source": [
    "#### Defining the Model.  \n",
    "**Our model is a Recurrent Neural Network with 32 recurrent units and 1 hidden layer with 8 neurons  \n",
    "Relu is used as the activation function.  \n",
    "Mean Squared Error is used as Loss Function with Adam optimizer.**"
   ]
  },
  {
   "cell_type": "code",
   "execution_count": 25,
   "metadata": {},
   "outputs": [],
   "source": [
    "def RNN():\n",
    "    model = Sequential()\n",
    "    import keras\n",
    "    keras.initializers.RandomNormal(mean=0.0, stddev=0.05, seed=5)\n",
    "    model.add(SimpleRNN(units=32, input_shape=(1,tstep), kernel_initializer=\"RandomNormal\",activation=\"relu\"))\n",
    "    model.add(Dense(1))\n",
    "    keras.optimizers.Adam(decay=1e-6,learning_rate=0.00001, beta_1=0.9, beta_2=0.999, amsgrad=False )\n",
    "    model.compile(loss=\"mean_squared_error\",optimizer=\"adam\")\n",
    "    return model"
   ]
  },
  {
   "cell_type": "code",
   "execution_count": 26,
   "metadata": {},
   "outputs": [],
   "source": [
    "model = RNN()\n",
    "hist = model.fit(trainX, trainY, epochs=400, batch_size=32, verbose=0)"
   ]
  },
  {
   "cell_type": "code",
   "execution_count": 27,
   "metadata": {},
   "outputs": [],
   "source": [
    "trainPredict = model.predict(trainX)\n",
    "testPredict = model.predict(testX)\n",
    "predicted = np.concatenate((trainPredict,testPredict),axis=0)"
   ]
  },
  {
   "cell_type": "code",
   "execution_count": 28,
   "metadata": {},
   "outputs": [
    {
     "name": "stdout",
     "output_type": "stream",
     "text": [
      "0.018979609530783238\n"
     ]
    }
   ],
   "source": [
    "trainScore = model.evaluate(trainX, trainY, verbose=0)\n",
    "print(trainScore)"
   ]
  },
  {
   "cell_type": "code",
   "execution_count": 29,
   "metadata": {},
   "outputs": [
    {
     "data": {
      "image/png": "[encoded data removed]",
      "text/plain": [
       "<Figure size 432x288 with 1 Axes>"
      ]
     },
     "metadata": {
      "needs_background": "light"
     },
     "output_type": "display_data"
    }
   ],
   "source": [
    "graph(hist)"
   ]
  },
  {
   "cell_type": "markdown",
   "metadata": {},
   "source": [
    "**Remembering**  \n",
    "**dayofweek = \n",
    "    [\"Monday, Tuesday, Wednesday, Thursday, Friday, Saturday, Sunday\"]  \n",
    "dayofweek = \n",
    "    [----1----,-----2----,-------3-----,------4-----,----5----,----6-----,----7----]**\n",
    "\n",
    "**dinner = \n",
    "    [\"Pizza\",\"Burguer\",\"Pancake\",\"Spaghetti\",\"Meat\",\"Chicken\",\"Sausage\"]  \n",
    "dinner =\n",
    "    [----1---,-----2-----,------3-----,------4------,----5----,----6-----,-----7-----]**"
   ]
  },
  {
   "cell_type": "code",
   "execution_count": 30,
   "metadata": {},
   "outputs": [
    {
     "name": "stdout",
     "output_type": "stream",
     "text": [
      "\n",
      " 3.068\n",
      "Pancake\n",
      "\n",
      " 5.96\n",
      "Chicken\n",
      "\n",
      " 2.01\n",
      "Burguer\n"
     ]
    }
   ],
   "source": [
    "seq = np.array([[[1, 2]],[[4, 5]],[[7, 1]]])\n",
    "# NextDay: [Wednesday],[Saturday],[Tuesday]\n",
    "# Returns: Pancake, Chicken, Burguer\n",
    "#           3.0      6.0      2.0\n",
    "\n",
    "for i in model.predict(seq):\n",
    "    if round(i[0]) == 1:\n",
    "        print('\\n',round(i[0],3))\n",
    "        print(\"Pizza\")\n",
    "    elif round(i[0]) == 2:\n",
    "        print('\\n',round(i[0],3))\n",
    "        print(\"Burguer\")\n",
    "    elif round(i[0]) == 3:\n",
    "        print('\\n',round(i[0],3))\n",
    "        print(\"Pancake\")\n",
    "    elif round(i[0]) == 4:\n",
    "        print('\\n',round(i[0],3))\n",
    "        print(\"Spaghetti\")\n",
    "    elif round(i[0]) == 5:\n",
    "        print('\\n',round(i[0],3))\n",
    "        print(\"Meat\")\n",
    "    elif round(i[0]) == 6:\n",
    "        print('\\n',round(i[0],3))\n",
    "        print(\"Chicken\")\n",
    "    else:\n",
    "        print(\"Sausage\")\n"
   ]
  },
  {
   "cell_type": "markdown",
   "metadata": {},
   "source": [
    "### It works!\n",
    "****\n",
    "****\n",
    "****\n",
    "**OK! Now I'll try to predict BTC prices, based on both these previous works  \n",
    "But this time I'll use LSTM**\n",
    "<br><br>\n",
    "**For sure the results won't be too close to the real value, since I'm using simple inputs and an simple Neural Network.**"
   ]
  },
  {
   "cell_type": "markdown",
   "metadata": {},
   "source": [
    "## Long Short-Term Memory"
   ]
  },
  {
   "cell_type": "markdown",
   "metadata": {},
   "source": [
    "**LSTMs are an special kind of RNNs.  \n",
    "LSTMs can memorize past terms better than RNN**"
   ]
  },
  {
   "cell_type": "markdown",
   "metadata": {},
   "source": [
    "<img src=\"img/LSTM.png\" alt=\"drawing\" width=\"420\" align=\"left\"/>\n",
    "<img src=\"img/LSTM2.png\" alt=\"drawing\" width=\"500\" align=\"left\"/>"
   ]
  },
  {
   "cell_type": "code",
   "execution_count": 31,
   "metadata": {},
   "outputs": [],
   "source": [
    "from sklearn.preprocessing import MinMaxScaler\n",
    "sc = MinMaxScaler()"
   ]
  },
  {
   "cell_type": "code",
   "execution_count": 32,
   "metadata": {},
   "outputs": [],
   "source": [
    "btcdf = pd.read_csv('data/Bitcoin_Historical_Price.csv')"
   ]
  },
  {
   "cell_type": "code",
   "execution_count": 33,
   "metadata": {},
   "outputs": [
    {
     "data": {
      "text/html": [
       "<div>\n",
       "<style scoped>\n",
       "    .dataframe tbody tr th:only-of-type {\n",
       "        vertical-align: middle;\n",
       "    }\n",
       "\n",
       "    .dataframe tbody tr th {\n",
       "        vertical-align: top;\n",
       "    }\n",
       "\n",
       "    .dataframe thead th {\n",
       "        text-align: right;\n",
       "    }\n",
       "</style>\n",
       "<table border=\"1\" class=\"dataframe\">\n",
       "  <thead>\n",
       "    <tr style=\"text-align: right;\">\n",
       "      <th></th>\n",
       "      <th>Date</th>\n",
       "      <th>Close</th>\n",
       "    </tr>\n",
       "  </thead>\n",
       "  <tbody>\n",
       "    <tr>\n",
       "      <th>0</th>\n",
       "      <td>2013-04-27</td>\n",
       "      <td>134.21</td>\n",
       "    </tr>\n",
       "    <tr>\n",
       "      <th>1</th>\n",
       "      <td>2013-04-28</td>\n",
       "      <td>144.54</td>\n",
       "    </tr>\n",
       "    <tr>\n",
       "      <th>2</th>\n",
       "      <td>2013-04-29</td>\n",
       "      <td>139.00</td>\n",
       "    </tr>\n",
       "  </tbody>\n",
       "</table>\n",
       "</div>"
      ],
      "text/plain": [
       "        Date   Close\n",
       "0 2013-04-27  134.21\n",
       "1 2013-04-28  144.54\n",
       "2 2013-04-29  139.00"
      ]
     },
     "execution_count": 33,
     "metadata": {},
     "output_type": "execute_result"
    }
   ],
   "source": [
    "btcdf['Date'] = pd.to_datetime(btcdf['Date'])\n",
    "btcdf.head(3)"
   ]
  },
  {
   "cell_type": "code",
   "execution_count": 34,
   "metadata": {},
   "outputs": [],
   "source": [
    "btcdf['Close'] = btcdf['Close']/btcdf['Close'].max()"
   ]
  },
  {
   "cell_type": "code",
   "execution_count": 35,
   "metadata": {},
   "outputs": [],
   "source": [
    "group = btcdf.groupby('Date')"
   ]
  },
  {
   "cell_type": "code",
   "execution_count": 36,
   "metadata": {},
   "outputs": [],
   "source": [
    "Real_Price = group['Close'].mean()"
   ]
  },
  {
   "cell_type": "code",
   "execution_count": 37,
   "metadata": {},
   "outputs": [
    {
     "data": {
      "text/plain": [
       "Date\n",
       "2013-01-05    0.005396\n",
       "2013-01-06    0.006272\n",
       "2013-01-07    0.004623\n",
       "Name: Close, dtype: float64"
      ]
     },
     "execution_count": 37,
     "metadata": {},
     "output_type": "execute_result"
    }
   ],
   "source": [
    "Real_Price[:3]"
   ]
  },
  {
   "cell_type": "code",
   "execution_count": 38,
   "metadata": {},
   "outputs": [
    {
     "data": {
      "text/plain": [
       "(1772,)"
      ]
     },
     "execution_count": 38,
     "metadata": {},
     "output_type": "execute_result"
    }
   ],
   "source": [
    "Real_Price.shape"
   ]
  },
  {
   "cell_type": "markdown",
   "metadata": {},
   "source": [
    "1772 values - I'll split at 1400 = ~80%"
   ]
  },
  {
   "cell_type": "code",
   "execution_count": 39,
   "metadata": {},
   "outputs": [],
   "source": [
    "split_point = 1400\n",
    "step = 30\n",
    "X_train = Real_Price[:split_point]\n",
    "y_train = Real_Price[step:split_point+step] # 30 days after train\n",
    "X_test = Real_Price[split_point:-step] # Values until the 30th last value\n",
    "y_test = Real_Price[split_point+step:] # 30 days after test"
   ]
  },
  {
   "cell_type": "code",
   "execution_count": 40,
   "metadata": {},
   "outputs": [],
   "source": [
    "def makematrix(dataX, dataY, step):\n",
    "    X, Y = [], []\n",
    "    for i in range(len(dataX)-step):\n",
    "        X.append(dataX[i:i+step,])\n",
    "        Y.append(dataY[i+step])\n",
    "    return np.array(X), np.array(Y)"
   ]
  },
  {
   "cell_type": "code",
   "execution_count": 41,
   "metadata": {},
   "outputs": [],
   "source": [
    "X_train, y_train = makematrix(X_train, y_train, step)\n",
    "X_test, y_test = makematrix(X_test, y_test, step)"
   ]
  },
  {
   "cell_type": "code",
   "execution_count": 42,
   "metadata": {},
   "outputs": [
    {
     "data": {
      "text/plain": [
       "(1370, 30)"
      ]
     },
     "execution_count": 42,
     "metadata": {},
     "output_type": "execute_result"
    }
   ],
   "source": [
    "X_train.shape"
   ]
  },
  {
   "cell_type": "markdown",
   "metadata": {},
   "source": [
    "**Everything is OK!  \n",
    "Reshaping to 3 dimensional**"
   ]
  },
  {
   "cell_type": "code",
   "execution_count": 43,
   "metadata": {},
   "outputs": [],
   "source": [
    "X_train = np.reshape(X_train, (X_train.shape[0], 1, step))\n",
    "X_test = np.reshape(X_test, (X_test.shape[0], 1, step))"
   ]
  },
  {
   "cell_type": "code",
   "execution_count": 44,
   "metadata": {},
   "outputs": [
    {
     "data": {
      "text/plain": [
       "(1370, 1, 30)"
      ]
     },
     "execution_count": 44,
     "metadata": {},
     "output_type": "execute_result"
    }
   ],
   "source": [
    "X_train.shape"
   ]
  },
  {
   "cell_type": "code",
   "execution_count": 45,
   "metadata": {},
   "outputs": [],
   "source": [
    "#X_train = sc.fit_transform(X_train)\n",
    "#X_test = sc.fit_transform(X_test)"
   ]
  },
  {
   "cell_type": "code",
   "execution_count": 46,
   "metadata": {},
   "outputs": [],
   "source": [
    "from keras.layers import LSTM"
   ]
  },
  {
   "cell_type": "code",
   "execution_count": 47,
   "metadata": {},
   "outputs": [],
   "source": [
    "def BTC_RNN():\n",
    "    model = Sequential()\n",
    "    model.add(LSTM(units=64, activation=\"sigmoid\", input_shape=(1,step)))\n",
    "    model.add(Dense(units=1))\n",
    "    import keras\n",
    "    keras.optimizers.Adam(decay=1e-6,learning_rate=0.001, beta_1=0.9, beta_2=0.999, amsgrad=False )\n",
    "    model.compile(loss=\"mean_squared_error\",optimizer=\"adam\")\n",
    "    return model"
   ]
  },
  {
   "cell_type": "code",
   "execution_count": 48,
   "metadata": {},
   "outputs": [
    {
     "name": "stdout",
     "output_type": "stream",
     "text": [
      "Epoch 1/5\n",
      "1370/1370 [==============================] - 1s 646us/step - loss: 0.0108\n",
      "Epoch 2/5\n",
      "1370/1370 [==============================] - 0s 106us/step - loss: 0.0012\n",
      "Epoch 3/5\n",
      "1370/1370 [==============================] - 0s 93us/step - loss: 0.0011\n",
      "Epoch 4/5\n",
      "1370/1370 [==============================] - 0s 171us/step - loss: 0.0010\n",
      "Epoch 5/5\n",
      "1370/1370 [==============================] - 0s 101us/step - loss: 9.7502e-04\n"
     ]
    }
   ],
   "source": [
    "model = BTC_RNN()\n",
    "hist1 = model.fit(X_train, y_train, batch_size=32, epochs=5)"
   ]
  },
  {
   "cell_type": "code",
   "execution_count": 49,
   "metadata": {},
   "outputs": [
    {
     "data": {
      "image/png": "[encoded data removed]",
      "text/plain": [
       "<Figure size 432x288 with 1 Axes>"
      ]
     },
     "metadata": {
      "needs_background": "light"
     },
     "output_type": "display_data"
    }
   ],
   "source": [
    "graph(hist1)"
   ]
  },
  {
   "cell_type": "code",
   "execution_count": 50,
   "metadata": {},
   "outputs": [
    {
     "data": {
      "image/png": "[encoded data removed]",
      "text/plain": [
       "<Figure size 1440x288 with 1 Axes>"
      ]
     },
     "metadata": {
      "needs_background": "light"
     },
     "output_type": "display_data"
    }
   ],
   "source": [
    "X = y_test\n",
    "y = model.predict(X_test)\n",
    "plt.figure(figsize=(20,4))\n",
    "plt.plot(X,color='orange', label='Real BTC Prices')\n",
    "plt.plot(y,color='b', label = 'Predicted BTC Prices')\n",
    "plt.legend(loc=2, prop={'size': 12})\n",
    "plt.title('BTC Price Prediction', fontsize=20)\n",
    "plt.xlabel('Time', fontsize=15)\n",
    "plt.ylabel('BTC Price(USD)', fontsize=15)\n",
    "plt.show()"
   ]
  }
 ],
 "metadata": {
  "kernelspec": {
   "display_name": "Python 3",
   "language": "python",
   "name": "python3"
  },
  "language_info": {
   "codemirror_mode": {
    "name": "ipython",
    "version": 3
   },
   "file_extension": ".py",
   "mimetype": "text/x-python",
   "name": "python",
   "nbconvert_exporter": "python",
   "pygments_lexer": "ipython3",
   "version": "3.7.3"
  }
 },
 "nbformat": 4,
 "nbformat_minor": 2
}
